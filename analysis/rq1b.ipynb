{
 "cells": [
  {
   "cell_type": "code",
   "execution_count": 2,
   "metadata": {},
   "outputs": [
    {
     "ename": "ModuleNotFoundError",
     "evalue": "No module named 'numpy'",
     "output_type": "error",
     "traceback": [
      "\u001b[0;31m---------------------------------------------------------------------------\u001b[0m",
      "\u001b[0;31mModuleNotFoundError\u001b[0m                       Traceback (most recent call last)",
      "Cell \u001b[0;32mIn[2], line 2\u001b[0m\n\u001b[1;32m      1\u001b[0m \u001b[39m# import pandas as pd\u001b[39;00m\n\u001b[0;32m----> 2\u001b[0m \u001b[39mimport\u001b[39;00m \u001b[39mnumpy\u001b[39;00m \u001b[39mas\u001b[39;00m \u001b[39mnp\u001b[39;00m\n\u001b[1;32m      3\u001b[0m \u001b[39mimport\u001b[39;00m \u001b[39mmatplotlib\u001b[39;00m\u001b[39m.\u001b[39;00m\u001b[39mpyplot\u001b[39;00m \u001b[39mas\u001b[39;00m \u001b[39mplt\u001b[39;00m\n\u001b[1;32m      4\u001b[0m \u001b[39mimport\u001b[39;00m \u001b[39mseaborn\u001b[39;00m \u001b[39mas\u001b[39;00m \u001b[39msns\u001b[39;00m\n",
      "\u001b[0;31mModuleNotFoundError\u001b[0m: No module named 'numpy'"
     ]
    }
   ],
   "source": [
    "\n",
    "import pandas as pd\n",
    "import numpy as np\n",
    "import matplotlib.pyplot as plt\n",
    "import seaborn as sns\n",
    "import json\n",
    "import os\n",
    "pd.set_option('display.float_format', '{:.2f}'.format)\n",
    "pd.set_option('display.max_columns', None)\n",
    "pd.set_option('display.float_format', '{:.2f}'.format)\n",
    "sns.set(style=\"whitegrid\")\n",
    "plt.rcParams['font.family'] = 'Ubuntu'\n",
    "plt.rcParams['font.serif'] = 'Ubuntu'\n",
    "plt.rcParams['font.monospace'] = 'Inconsolata Medium'\n",
    "plt.rcParams['axes.labelsize'] = 23\n",
    "plt.rcParams['axes.titlesize'] = 23\n",
    "plt.rcParams['xtick.labelsize'] = 20\n",
    "plt.rcParams['ytick.labelsize'] = 20\n",
    "plt.rcParams['legend.fontsize'] = 18\n",
    "plt.rcParams['figure.titlesize'] = 24\n",
    "plt.rcParams['figure.figsize'] = (8, 4)\n",
    "%matplotlib inline"
   ]
  },
  {
   "cell_type": "code",
   "execution_count": null,
   "metadata": {},
   "outputs": [
    {
     "ename": "",
     "evalue": "",
     "output_type": "error",
     "traceback": [
      "\u001b[1;31mRunning cells with 'base' requires the ipykernel package.\n",
      "\u001b[1;31mRun the following command to install 'ipykernel' into the Python environment. \n",
      "\u001b[1;31mCommand: 'conda install -n base ipykernel --update-deps --force-reinstall'"
     ]
    }
   ],
   "source": [
    "df = pd.read_csv(\"data/results_rq1b.csv\")"
   ]
  },
  {
   "cell_type": "code",
   "execution_count": null,
   "metadata": {},
   "outputs": [
    {
     "ename": "",
     "evalue": "",
     "output_type": "error",
     "traceback": [
      "\u001b[1;31mRunning cells with 'base' requires the ipykernel package.\n",
      "\u001b[1;31mRun the following command to install 'ipykernel' into the Python environment. \n",
      "\u001b[1;31mCommand: 'conda install -n base ipykernel --update-deps --force-reinstall'"
     ]
    }
   ],
   "source": [
    "title_mapping = {\n",
    "    'bloated_deps_count_1': 'Number of dependencies',\n",
    "    'bloated_deps_loc_1': 'Size of dependencies (LοC)',\n",
    "    'bloated_files_count_1': 'Number of files',\n",
    "    'bloated_files_loc_1': 'Size of files (LoC)',\n",
    "    'bloated_functions_count_1': 'Number of methods',\n",
    "    'bloated_functions_loc_1': 'Size of methods (LoC)'\n",
    "}\n"
   ]
  },
  {
   "cell_type": "code",
   "execution_count": null,
   "metadata": {},
   "outputs": [
    {
     "ename": "",
     "evalue": "",
     "output_type": "error",
     "traceback": [
      "\u001b[1;31mRunning cells with 'base' requires the ipykernel package.\n",
      "\u001b[1;31mRun the following command to install 'ipykernel' into the Python environment. \n",
      "\u001b[1;31mCommand: 'conda install -n base ipykernel --update-deps --force-reinstall'"
     ]
    }
   ],
   "source": [
    "filtered_df = df.filter(items=title_mapping.keys())\n"
   ]
  },
  {
   "cell_type": "code",
   "execution_count": null,
   "metadata": {},
   "outputs": [
    {
     "ename": "",
     "evalue": "",
     "output_type": "error",
     "traceback": [
      "\u001b[1;31mRunning cells with 'base' requires the ipykernel package.\n",
      "\u001b[1;31mRun the following command to install 'ipykernel' into the Python environment. \n",
      "\u001b[1;31mCommand: 'conda install -n base ipykernel --update-deps --force-reinstall'"
     ]
    }
   ],
   "source": [
    "fig, axes = plt.subplots(2, 3, figsize=(9, 6))\n",
    "ax_iter = iter(axes.flatten())\n",
    "\n",
    "# New metrics mapping reordered for the desired sequence\n",
    "metrics_mapping = {\n",
    "    'bloated_deps_count_1': ['transitive_bloated_dependencies_count', 'used_direct_deps_count_1', 'transitive_used_dependencies_count'],\n",
    "    'bloated_files_count_1': ['transitive_bloated_files_count', 'used_direct_files_count_1', 'transitive_used_files_count'],\n",
    "    'bloated_functions_count_1': ['transitive_bloated_functions_count', 'used_direct_functions_count_1', 'transitive_used_functions_count'],\n",
    "    'bloated_deps_loc_1': ['transitive_bloated_dependencies_loc', 'used_direct_deps_loc_1', 'transitive_used_dependencies_loc'],\n",
    "    'bloated_files_loc_1': ['transitive_bloated_files_loc', 'used_direct_files_loc_1', 'transitive_used_files_loc'],\n",
    "    'bloated_functions_loc_1': ['transitive_bloated_functions_loc', 'used_direct_functions_loc_1', 'transitive_used_functions_loc'],\n",
    "}\n",
    "\n",
    "labels = ['Direct bloated', 'Transitive bloated', 'Direct used', 'Transitive used']\n",
    "\n",
    "for direct_metric, other_metrics in metrics_mapping.items():\n",
    "    ax = next(ax_iter)\n",
    "\n",
    "    # Calculate values for all 4 categories\n",
    "    direct_bloated_value = df[direct_metric].sum()\n",
    "    transitive_bloated_value = df[other_metrics[0]].sum()\n",
    "    direct_used_value = df[other_metrics[1]].sum()\n",
    "    transitive_used_value = df[other_metrics[2]].sum()\n",
    "    \n",
    "    values = [direct_bloated_value, transitive_bloated_value, direct_used_value, transitive_used_value]\n",
    "    \n",
    "    wedges, texts, autotexts = ax.pie(values, autopct='%1.1f%%', startangle=90, pctdistance=1.1,\n",
    "                                     colors=sns.color_palette(\"Greys\", 4))\n",
    "\n",
    "    # Set white edge color for each wedge\n",
    "    for wedge in wedges:\n",
    "        wedge.set_edgecolor('white')\n",
    "    for i in range(len(autotexts) - 1):\n",
    "        x1, y1 = autotexts[i].get_position()\n",
    "        x2, y2 = autotexts[i+1].get_position()\n",
    "        if abs(y2 - y1) < 0.1:  # Check if y-coordinates are close\n",
    "            if y1 < y2:\n",
    "                y1_new = y1 - 0.05\n",
    "                y2_new = y2 + 0.05\n",
    "            else:\n",
    "                y1_new = y1 + 0.05\n",
    "                y2_new = y2 - 0.05\n",
    "            autotexts[i].set(y=y1_new)\n",
    "            autotexts[i+1].set(y=y2_new)\n",
    "    \n",
    "    # Adjust font size for labels and autopct\n",
    "    for text in texts + autotexts:\n",
    "        text.set(size=10)\n",
    "\n",
    "    ax.set_title(title_mapping[direct_metric], fontsize=15)\n",
    "\n",
    "fig.legend(wedges, labels, title=\"Dependency usage\", loc=\"lower center\", bbox_to_anchor=(0.5, -0.1), ncol=len(labels))\n",
    "\n",
    "plt.tight_layout()\n",
    "fig.savefig(\"figures/rq1b.pdf\", format=\"pdf\", bbox_inches='tight')\n"
   ]
  },
  {
   "cell_type": "code",
   "execution_count": null,
   "metadata": {},
   "outputs": [
    {
     "ename": "",
     "evalue": "",
     "output_type": "error",
     "traceback": [
      "\u001b[1;31mRunning cells with 'base' requires the ipykernel package.\n",
      "\u001b[1;31mRun the following command to install 'ipykernel' into the Python environment. \n",
      "\u001b[1;31mCommand: 'conda install -n base ipykernel --update-deps --force-reinstall'"
     ]
    }
   ],
   "source": []
  }
 ],
 "metadata": {
  "kernelspec": {
   "display_name": "Python 3 (ipykernel)",
   "language": "python",
   "name": "python3"
  },
  "language_info": {
   "codemirror_mode": {
    "name": "ipython",
    "version": 3
   },
   "file_extension": ".py",
   "mimetype": "text/x-python",
   "name": "python",
   "nbconvert_exporter": "python",
   "pygments_lexer": "ipython3",
   "version": "3.10.0"
  }
 },
 "nbformat": 4,
 "nbformat_minor": 4
}
