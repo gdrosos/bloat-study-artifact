{
 "cells": [
  {
   "cell_type": "code",
   "execution_count": 1,
   "metadata": {},
   "outputs": [],
   "source": [
    "import json\n",
    "import matplotlib.pyplot as plt\n",
    "import pandas as pd\n",
    "from collections import defaultdict\n",
    "plt.style.use('science')\n"
   ]
  },
  {
   "cell_type": "code",
   "execution_count": 2,
   "metadata": {},
   "outputs": [],
   "source": [
    "df = pd.read_csv(\"data/results_rq2.csv\")"
   ]
  },
  {
   "cell_type": "code",
   "execution_count": 3,
   "metadata": {},
   "outputs": [],
   "source": [
    "values_bloated = df[\"vulnerable_dependencies_bloated\"].sum()\n",
    "values_not_bloated = df[\"vulnerable_dependencies_reachable\"].sum()\n",
    "\n",
    "values_not_bloated_through_functions = df[\"vulnerable_dependencies_reachable_through_functions\"].sum()\n",
    "values_bloated_through_functions= df[\"vulnerable_dependencies_bloated_through_functions\"].sum()\n",
    "values_unresolved_through_functions= df[\"vulnerable_dependencies_unresolved_through_functions\"].sum()\n",
    "total_not_bloated = values_not_bloated_through_functions+values_bloated_through_functions+values_unresolved_through_functions\n"
   ]
  },
  {
   "cell_type": "code",
   "execution_count": 4,
   "metadata": {},
   "outputs": [],
   "source": [
    "assert total_not_bloated == values_not_bloated\n"
   ]
  },
  {
   "cell_type": "code",
   "execution_count": 5,
   "metadata": {},
   "outputs": [
    {
     "data": {
      "image/png": "[encoded data removed]",
      "text/plain": [
       "<Figure size 350x262.5 with 1 Axes>"
      ]
     },
     "metadata": {},
     "output_type": "display_data"
    }
   ],
   "source": [
    "labels = ['Bloated', 'Active Exposure', 'Inactive Exposure', 'Undefined Exposure']\n",
    "counts = [\n",
    "    values_bloated,\n",
    "    values_not_bloated_through_functions,\n",
    "    values_bloated_through_functions, \n",
    "    values_unresolved_through_functions]\n",
    "\n",
    "total = sum(counts)  \n",
    "fig, ax = plt.subplots()\n",
    "\n",
    "# Create bars\n",
    "bars = ax.barh(labels, counts)\n",
    "\n",
    "# Annotations\n",
    "for bar in bars:\n",
    "    width = bar.get_width()\n",
    "    ax.annotate(f'{width}/{total}', \n",
    "                xy=(width + 70, bar.get_y() + bar.get_height() / 2),\n",
    "                ha='center', va='center',\n",
    "                color='black')\n",
    "\n",
    "ax.set_xlim(0, max(counts) + 150)  # Adjust x-axis limits to account for width/total display\n",
    "ax.set_xlabel('Number of Vulnerable Dependencies')\n",
    "\n",
    "plt.gca().invert_yaxis()  # This inverts the y-axis to have the bar with the highest count at the top\n",
    "\n",
    "plt.savefig(\"figures/rq2.pdf\", bbox_inches='tight')\n",
    "plt.show()"
   ]
  }
 ],
 "metadata": {
  "kernelspec": {
   "display_name": "base",
   "language": "python",
   "name": "python3"
  },
  "language_info": {
   "codemirror_mode": {
    "name": "ipython",
    "version": 3
   },
   "file_extension": ".py",
   "mimetype": "text/x-python",
   "name": "python",
   "nbconvert_exporter": "python",
   "pygments_lexer": "ipython3",
   "version": "3.9.18"
  },
  "orig_nbformat": 4
 },
 "nbformat": 4,
 "nbformat_minor": 2
}
