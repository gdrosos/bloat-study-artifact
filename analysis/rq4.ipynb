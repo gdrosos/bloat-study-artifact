{
 "cells": [
  {
   "cell_type": "code",
   "execution_count": 21,
   "metadata": {},
   "outputs": [],
   "source": [
    "import tabulate\n",
    "import json\n",
    "import matplotlib.pyplot as plt\n",
    "from collections import defaultdict\n",
    "import pandas as pd\n",
    "import numpy as np\n",
    "plt.style.use('science')\n"
   ]
  },
  {
   "cell_type": "code",
   "execution_count": 22,
   "metadata": {},
   "outputs": [],
   "source": [
    "with open(\"data/qualitative_results.json\", \"r\") as f:\n",
    "    projects = json.loads(f.read())"
   ]
  },
  {
   "cell_type": "code",
   "execution_count": 23,
   "metadata": {},
   "outputs": [],
   "source": [
    "df = pd.read_json(\"data/qualitative_results.json\")"
   ]
  },
  {
   "cell_type": "code",
   "execution_count": 24,
   "metadata": {},
   "outputs": [],
   "source": [
    "# Organize data for visualization\n",
    "causes = {}\n",
    "statuses = [\"Merged\", \"Approved\", \"Possitive Feedback\", \"Pending\", \"Rejected\"]\n",
    "projects_per_status = {s: set() for s in statuses}  # Track unique projects per status\n",
    "\n",
    "\n",
    "for project, deps in projects.items():\n",
    "    for dep, details in deps.items():\n",
    "        cause = details[\"Root Cause\"]\n",
    "        status = details[\"PR Status\"]\n",
    "        if status in statuses:\n",
    "            if cause not in causes:\n",
    "                causes[cause] = {s: 0 for s in statuses}\n",
    "            causes[cause][status] += 1\n",
    "            projects_per_status[status].add(project)\n",
    "\n",
    "\n",
    "labels = list(causes.keys())"
   ]
  },
  {
   "cell_type": "code",
   "execution_count": 25,
   "metadata": {},
   "outputs": [
    {
     "data": {
      "image/png": "[encoded data removed]",
      "text/plain": [
       "<Figure size 1000x200 with 1 Axes>"
      ]
     },
     "metadata": {},
     "output_type": "display_data"
    }
   ],
   "source": [
    "bottom = np.zeros(len(labels))\n",
    "\n",
    "# Adjusting the figure size based on the number of labels\n",
    "fig, ax = plt.subplots(figsize=(10, 0.5 * len(labels)))\n",
    "\n",
    "for i, status in enumerate(statuses):\n",
    "    counts = [causes[label][status] for label in labels]\n",
    "    ax.barh(labels, counts, left=bottom, label=status, height=0.5)  # Adjust bar thickness with height\n",
    "    bottom += counts\n",
    "\n",
    "# Set xlabel with appropriate font size\n",
    "ax.set_xlabel('Number of Dependencies', fontsize=12)\n",
    "\n",
    "# Create space to the right of the plot\n",
    "fig.subplots_adjust(right=0.7)\n",
    "\n",
    "# Adjust the yticks and xticks font sizes\n",
    "plt.yticks(fontsize=12)\n",
    "plt.xticks(fontsize=12)\n",
    "\n",
    "plt.tight_layout(pad=2.0)\n",
    "\n",
    "# Set the legend outside the plot on the right\n",
    "legend = ax.legend(loc='center left', bbox_to_anchor=(1, 0.5), prop={\"size\": 12})\n",
    "legend.set_title(\"PR Status\", prop={\"size\": 14})\n",
    "ax.set_xlim(0, 15)  # Adjust x-axis limits\n",
    "\n",
    "plt.gca().invert_yaxis() \n",
    "plt.savefig(\"figures/rq4.pdf\", bbox_extra_artists=(legend,), bbox_inches='tight')\n",
    "plt.show()\n"
   ]
  },
  {
   "cell_type": "code",
   "execution_count": 26,
   "metadata": {},
   "outputs": [],
   "source": [
    "total_prs = sum([len(projects_per_status[status]) for status in statuses])\n",
    "total_deps_removed = sum([causes[cause][status] for cause in causes for status in statuses])\n",
    "\n",
    "latex_table = r\"\"\"\n",
    "\\begin{table}[h]\n",
    "\\caption{Pull Request (PR) Outcomes for Removal of Bloated Direct Dependencies}\n",
    "\\label{tab:pr_outcomes}\n",
    "\\centering\n",
    "\\resizebox{0.9\\linewidth}{!}{\n",
    "\\begin{tabular}{lrr}\n",
    "\\hline\n",
    "{\\bf PR Status} & {\\bf Number of PRs} & {\\bf Number of Direct Dependencies Removed} \\bigstrut\\\\\n",
    "\\hline\n",
    "\"\"\"\n",
    "\n",
    "for status in statuses:\n",
    "    num_prs = len(projects_per_status[status])\n",
    "    num_deps_removed = sum([causes[cause][status] for cause in causes if status in causes[cause]])\n",
    "    latex_table += f\"{status} & \\\\nnum{{{num_prs}}} & \\\\nnum{{{num_deps_removed}}} \\\\\\\\\\n\" \n",
    "\n",
    "latex_table += f\"\\\\hline\\nTotal & \\\\nnum{{{total_prs}}} & \\\\nnum{{{total_deps_removed}}} \\\\bigstrut \\\\\\\\\\n\\\\hline\\n\"\n",
    "\n",
    "latex_table += r\"\"\"\n",
    "\\end{tabular}}\n",
    "\\end{table}\n",
    "\"\"\"\n",
    "\n",
    "with open(\"tables/rq4_pr_status.tex\", \"w\") as file:\n",
    "    file.write(latex_table)\n",
    "\n",
    "\n"
   ]
  }
 ],
 "metadata": {
  "kernelspec": {
   "display_name": "base",
   "language": "python",
   "name": "python3"
  },
  "language_info": {
   "codemirror_mode": {
    "name": "ipython",
    "version": 3
   },
   "file_extension": ".py",
   "mimetype": "text/x-python",
   "name": "python",
   "nbconvert_exporter": "python",
   "pygments_lexer": "ipython3",
   "version": "3.9.18"
  },
  "orig_nbformat": 4
 },
 "nbformat": 4,
 "nbformat_minor": 2
}
