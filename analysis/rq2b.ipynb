{
 "cells": [
  {
   "cell_type": "code",
   "execution_count": 20,
   "metadata": {},
   "outputs": [],
   "source": [
    "import pandas as pd\n",
    "import numpy as np\n",
    "import matplotlib.pyplot as plt\n",
    "import seaborn as sns\n",
    "import json\n",
    "import os\n",
    "pd.set_option('display.float_format', '{:.2f}'.format)\n",
    "pd.set_option('display.max_columns', None)\n",
    "pd.set_option('display.float_format', '{:.2f}'.format)\n",
    "sns.set(style=\"whitegrid\")\n",
    "plt.rcParams['font.family'] = 'Ubuntu'\n",
    "plt.rcParams['font.serif'] = 'Ubuntu'\n",
    "plt.rcParams['font.monospace'] = 'Inconsolata Medium'\n",
    "plt.rcParams['axes.labelsize'] = 14\n",
    "plt.rcParams['axes.titlesize'] = 26\n",
    "plt.rcParams['xtick.labelsize'] = 16\n",
    "plt.rcParams['ytick.labelsize'] = 14\n",
    "plt.rcParams['legend.fontsize'] = 17\n",
    "plt.rcParams['figure.titlesize'] = 17\n",
    "plt.rcParams['figure.figsize'] = (6, 4)\n",
    "%matplotlib inline"
   ]
  },
  {
   "cell_type": "code",
   "execution_count": 21,
   "metadata": {},
   "outputs": [],
   "source": [
    "df = pd.read_csv(\"data/results_rq2b.csv\")"
   ]
  },
  {
   "cell_type": "code",
   "execution_count": 22,
   "metadata": {},
   "outputs": [
    {
     "data": {
      "image/png": "[encoded data removed]",
      "text/plain": [
       "<Figure size 600x400 with 1 Axes>"
      ]
     },
     "metadata": {},
     "output_type": "display_data"
    }
   ],
   "source": [
    "metrics_count = ['percentage_bloated_functions', 'percentage_bloated_files']\n",
    "\n",
    "# Define a rename dictionary for nicer axis labels\n",
    "rename_dict = {\n",
    "    'percentage_bloated_functions': 'Bloated methods',\n",
    "        'percentage_bloated_files': 'Bloated files',\n",
    "\n",
    "\n",
    "}\n",
    "\n",
    "# Melt the DataFrame\n",
    "df_melted = df[metrics_count + ['Status']].melt(id_vars='Status', var_name='metric', value_name='value')\n",
    "\n",
    "# Map the metric names to more readable ones\n",
    "df_melted['metric'] = df_melted['metric'].map(rename_dict)\n",
    "# df_melted['Status'] = df_melted['Status'].map({'active': 'Active Exposure', 'inactive': 'Inactive Exposure'})\n",
    "\n",
    "# Plot\n",
    "ax = sns.boxplot(data=df_melted, x=\"metric\", y=\"value\", hue=\"Status\", \n",
    "                 orient='v', linewidth=1.2, palette=['lightgrey', 'grey'],\n",
    "                 showmeans=True,\n",
    "                 meanprops={\"marker\":\"^\",\"markerfacecolor\":\"red\", \"markeredgecolor\":\"red\"})\n",
    "\n",
    "\n",
    "ax.legend(title=\"Exposure status\", frameon=True, prop={\"size\": 12})\n",
    "\n",
    "plt.ylim([0, 1])\n",
    "plt.xlabel(\"\")\n",
    "plt.ylabel(\"Percentage (%)\")\n",
    "plt.tight_layout()\n",
    "plt.savefig('figures/rq2b.pdf', bbox_inches='tight',)\n",
    "plt.show()"
   ]
  },
  {
   "cell_type": "code",
   "execution_count": 23,
   "metadata": {},
   "outputs": [],
   "source": [
    "mean= df_melted.groupby(['metric', 'Status'])['value'].mean().reset_index()\n"
   ]
  },
  {
   "cell_type": "code",
   "execution_count": 24,
   "metadata": {},
   "outputs": [
    {
     "data": {
      "text/html": [
       "<div>\n",
       "<style scoped>\n",
       "    .dataframe tbody tr th:only-of-type {\n",
       "        vertical-align: middle;\n",
       "    }\n",
       "\n",
       "    .dataframe tbody tr th {\n",
       "        vertical-align: top;\n",
       "    }\n",
       "\n",
       "    .dataframe thead th {\n",
       "        text-align: right;\n",
       "    }\n",
       "</style>\n",
       "<table border=\"1\" class=\"dataframe\">\n",
       "  <thead>\n",
       "    <tr style=\"text-align: right;\">\n",
       "      <th></th>\n",
       "      <th>metric</th>\n",
       "      <th>Status</th>\n",
       "      <th>value</th>\n",
       "    </tr>\n",
       "  </thead>\n",
       "  <tbody>\n",
       "    <tr>\n",
       "      <th>0</th>\n",
       "      <td>Bloated files</td>\n",
       "      <td>Active</td>\n",
       "      <td>0.63</td>\n",
       "    </tr>\n",
       "    <tr>\n",
       "      <th>1</th>\n",
       "      <td>Bloated files</td>\n",
       "      <td>Inactive</td>\n",
       "      <td>0.82</td>\n",
       "    </tr>\n",
       "    <tr>\n",
       "      <th>2</th>\n",
       "      <td>Bloated methods</td>\n",
       "      <td>Active</td>\n",
       "      <td>0.86</td>\n",
       "    </tr>\n",
       "    <tr>\n",
       "      <th>3</th>\n",
       "      <td>Bloated methods</td>\n",
       "      <td>Inactive</td>\n",
       "      <td>0.95</td>\n",
       "    </tr>\n",
       "  </tbody>\n",
       "</table>\n",
       "</div>"
      ],
      "text/plain": [
       "            metric    Status  value\n",
       "0    Bloated files    Active   0.63\n",
       "1    Bloated files  Inactive   0.82\n",
       "2  Bloated methods    Active   0.86\n",
       "3  Bloated methods  Inactive   0.95"
      ]
     },
     "execution_count": 24,
     "metadata": {},
     "output_type": "execute_result"
    }
   ],
   "source": [
    "mean"
   ]
  }
 ],
 "metadata": {
  "kernelspec": {
   "display_name": "Python 3 (ipykernel)",
   "language": "python",
   "name": "python3"
  },
  "language_info": {
   "codemirror_mode": {
    "name": "ipython",
    "version": 3
   },
   "file_extension": ".py",
   "mimetype": "text/x-python",
   "name": "python",
   "nbconvert_exporter": "python",
   "pygments_lexer": "ipython3",
   "version": "3.9.18"
  }
 },
 "nbformat": 4,
 "nbformat_minor": 4
}
