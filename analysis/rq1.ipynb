{
 "cells": [
  {
   "cell_type": "code",
   "execution_count": 12,
   "metadata": {},
   "outputs": [],
   "source": [
    "import pandas as pd\n",
    "import numpy as np\n",
    "import matplotlib.pyplot as plt\n",
    "import seaborn as sns\n",
    "from numpy import mean\n",
    "\n",
    "\n",
    "import matplotlib.ticker as ticker\n",
    "scale_factor = 1e6\n",
    "\n",
    "pd.set_option('display.float_format', '{:.2f}'.format)\n",
    "plt.style.use('science')\n",
    "%matplotlib inline"
   ]
  },
  {
   "cell_type": "code",
   "execution_count": 13,
   "metadata": {},
   "outputs": [],
   "source": [
    "df = pd.read_csv(\"data/results_rq1.csv\")"
   ]
  },
  {
   "cell_type": "code",
   "execution_count": 14,
   "metadata": {},
   "outputs": [],
   "source": [
    "df1 = df"
   ]
  },
  {
   "cell_type": "code",
   "execution_count": 15,
   "metadata": {},
   "outputs": [],
   "source": [
    "full_names = [\n",
    "    'Number of Bloated Dependencies', 'Number of Bloated Files in Dependencies', 'Number of Bloated Methods in Dependencies', \n",
    "    'Number of Bloated Dependencies in LOC', 'Number of Bloated Files in Dependencies in LOC', 'Number of Bloated Methods in Dependencies in LOC',\n",
    "    'Percentage of Bloated Dependencies', 'Percentage of Bloated Files in Dependencies', 'Percentage of Bloated Methods in Dependencies',\n",
    "    'Percentage of Bloated Dependencies in LOC', 'Percentage of Bloated Files in Dependencies in LOC', 'Percentage of Bloated Methods in Dependencies in LOC'\n",
    "]"
   ]
  },
  {
   "cell_type": "code",
   "execution_count": 16,
   "metadata": {},
   "outputs": [
    {
     "name": "stderr",
     "output_type": "stream",
     "text": [
      "/var/folders/gq/s5tpqtkx0zn5szv_6cjc3pdw0000gn/T/ipykernel_60854/3490403544.py:9: FutureWarning: In future versions `DataFrame.to_latex` is expected to utilise the base implementation of `Styler.to_latex` for formatting and rendering. The arguments signature may therefore change. It is recommended instead to use `DataFrame.style.to_latex` which also contains additional functionality.\n",
      "  latex_table = description_df.to_latex(index=True)\n"
     ]
    },
    {
     "data": {
      "text/plain": [
       "'\\\\begin{tabular}{lrrrrrrrrrrrr}\\n\\\\toprule\\n{} &     NBD &    NBFD &      NBMD &    NBD-LOC &   NBFD-LOC &   NBMD-LOC &     PBD &    PBFD &    PBMD &  PBD-LOC &  PBFD-LOC &  PBMD-LOC \\\\\\\\\\n\\\\midrule\\ncount & 1302.00 & 1302.00 &   1302.00 &    1302.00 &    1302.00 &    1302.00 & 1302.00 & 1302.00 & 1302.00 &  1302.00 &   1302.00 &   1302.00 \\\\\\\\\\nmean  &   10.00 &  694.00 &  10652.00 &   94554.00 &  245988.00 &  185469.00 &   48.00 &   87.00 &   96.00 &    32.00 &     78.00 &     94.00 \\\\\\\\\\nstd   &   14.00 &  886.00 &  13129.00 &  170566.00 &  332415.00 &  246344.00 &   28.00 &   15.00 &    6.00 &    31.00 &     19.00 &      8.00 \\\\\\\\\\nmin   &    0.00 &    0.00 &      0.00 &       0.00 &       0.00 &       0.00 &    0.00 &    0.00 &    0.00 &     0.00 &      0.00 &      0.00 \\\\\\\\\\n25\\\\%   &    1.00 &   96.00 &   1552.00 &    4727.00 &   32798.00 &   25224.00 &   32.00 &   85.00 &   95.00 &     5.00 &     72.00 &     92.00 \\\\\\\\\\n50\\\\%   &    5.00 &  342.00 &   5680.00 &   23190.00 &  119882.00 &   94589.00 &   50.00 &   91.00 &   97.00 &    23.00 &     82.00 &     95.00 \\\\\\\\\\n75\\\\%   &   12.00 &  992.00 &  14857.00 &  117503.00 &  341164.00 &  248821.00 &   67.00 &   95.00 &   99.00 &    50.00 &     91.00 &     98.00 \\\\\\\\\\nmax   &  138.00 & 8406.00 & 100255.00 & 1452702.00 & 2594650.00 & 1886841.00 &  100.00 &  100.00 &  100.00 &   100.00 &    100.00 &    100.00 \\\\\\\\\\n\\\\bottomrule\\n\\\\end{tabular}\\n'"
      ]
     },
     "execution_count": 16,
     "metadata": {},
     "output_type": "execute_result"
    }
   ],
   "source": [
    "description_df = df.describe().round()\n",
    "\n",
    "name_dict = {column: [full_names[i]] for i, column in enumerate(description_df.columns)}\n",
    "description_with_names = pd.DataFrame(name_dict)\n",
    "\n",
    "\n",
    "final_description = pd.concat([description_with_names, description_df])\n",
    "\n",
    "latex_table = description_df.to_latex(index=True)\n",
    "with open(\"tables/rq1_descriptives.tex\", \"w\") as file:\n",
    "    file.write(latex_table)\n",
    "latex_table"
   ]
  },
  {
   "cell_type": "code",
   "execution_count": 17,
   "metadata": {},
   "outputs": [],
   "source": [
    "full_names = [\n",
    "    'Percentage of Bloated Dependencies', 'Percentage of Bloated Files in Dependencies', 'Percentage of Bloated Methods in Dependencies',\n",
    "    'Percentage of Bloated Dependencies in LOC', 'Percentage of Bloated Files in Dependencies in LOC', 'Percentage of Bloated Methods in Dependencies in LOC'\n",
    "]"
   ]
  },
  {
   "cell_type": "code",
   "execution_count": 18,
   "metadata": {},
   "outputs": [],
   "source": [
    "# correlation_matrix = df.iloc[:, 1:].corr()\n",
    "# plt.figure(figsize=(12, 10))\n",
    "# sns.heatmap(correlation_matrix, annot=True, cmap='coolwarm',  fmt='.2f',  xticklabels=1, yticklabels=1)\n",
    "# plt.xticks(rotation=45)\n",
    "\n",
    "# plt.savefig('docs/images/correlation_heatmap_rq1.pdf', bbox_inches='tight', dpi=300)\n"
   ]
  },
  {
   "cell_type": "code",
   "execution_count": 19,
   "metadata": {},
   "outputs": [],
   "source": [
    "metrics = [\n",
    "    'PBD', 'PBFD', 'PBMD', 'PBD-LOC', 'PBFD-LOC', 'PBMD-LOC'\n",
    "]\n"
   ]
  },
  {
   "attachments": {},
   "cell_type": "markdown",
   "metadata": {},
   "source": []
  },
  {
   "cell_type": "code",
   "execution_count": 20,
   "metadata": {},
   "outputs": [
    {
     "data": {
      "text/plain": [
       "<Figure size 1700x1000 with 0 Axes>"
      ]
     },
     "metadata": {},
     "output_type": "display_data"
    }
   ],
   "source": [
    "\n",
    "# Second figure with the remaining plots\n",
    "plt.figure(figsize=(17, 10))\n",
    "for i, (metric, full_name) in enumerate(zip(metrics, full_names[6:]), 1):\n",
    "    plt.subplot(2, 3, i)\n",
    "    ax = sns.violinplot(y=df[metric], linewidth=2, color='lightblue', orient='h')\n",
    "    ax.set_ylim(0)\n",
    "    avg_val = df[metric].mean()\n",
    "    marker = plt.matplotlib.markers.MarkerStyle(marker=\"^\")\n",
    "    plt.scatter(0, avg_val, color='red', marker=marker, s=35, zorder=5)\n",
    "    plt.title(f'{full_name}', fontsize=18)\n",
    "    if df[metric].max() >= 1e6:\n",
    "        plt.yticks(ticks=plt.yticks()[0], labels=[f'{y/scale_factor:.1f}M' for y in plt.yticks()[0]])\n",
    "    ax.tick_params(axis='y', labelsize=20)\n",
    "    ax.set_ylabel(\"\")\n",
    "    plt.tight_layout()\n",
    "plt.savefig('figures/rq1.pdf')\n"
   ]
  },
  {
   "cell_type": "code",
   "execution_count": 21,
   "metadata": {},
   "outputs": [
    {
     "data": {
      "text/html": [
       "<div>\n",
       "<style scoped>\n",
       "    .dataframe tbody tr th:only-of-type {\n",
       "        vertical-align: middle;\n",
       "    }\n",
       "\n",
       "    .dataframe tbody tr th {\n",
       "        vertical-align: top;\n",
       "    }\n",
       "\n",
       "    .dataframe thead th {\n",
       "        text-align: right;\n",
       "    }\n",
       "</style>\n",
       "<table border=\"1\" class=\"dataframe\">\n",
       "  <thead>\n",
       "    <tr style=\"text-align: right;\">\n",
       "      <th></th>\n",
       "      <th>product</th>\n",
       "      <th>NBD</th>\n",
       "      <th>NBFD</th>\n",
       "      <th>NBMD</th>\n",
       "      <th>NBD-LOC</th>\n",
       "      <th>NBFD-LOC</th>\n",
       "      <th>NBMD-LOC</th>\n",
       "      <th>PBD</th>\n",
       "      <th>PBFD</th>\n",
       "      <th>PBMD</th>\n",
       "      <th>PBD-LOC</th>\n",
       "      <th>PBFD-LOC</th>\n",
       "      <th>PBMD-LOC</th>\n",
       "    </tr>\n",
       "  </thead>\n",
       "  <tbody>\n",
       "    <tr>\n",
       "      <th>0</th>\n",
       "      <td>mozillasecurity/grizzly</td>\n",
       "      <td>6</td>\n",
       "      <td>255</td>\n",
       "      <td>4618</td>\n",
       "      <td>25649</td>\n",
       "      <td>72371</td>\n",
       "      <td>66834</td>\n",
       "      <td>30.00</td>\n",
       "      <td>75.00</td>\n",
       "      <td>88.84</td>\n",
       "      <td>22.84</td>\n",
       "      <td>64.45</td>\n",
       "      <td>84.49</td>\n",
       "    </tr>\n",
       "    <tr>\n",
       "      <th>1</th>\n",
       "      <td>mozillasecurity/ffpuppet</td>\n",
       "      <td>0</td>\n",
       "      <td>2</td>\n",
       "      <td>457</td>\n",
       "      <td>0</td>\n",
       "      <td>165</td>\n",
       "      <td>5750</td>\n",
       "      <td>0.00</td>\n",
       "      <td>15.38</td>\n",
       "      <td>81.03</td>\n",
       "      <td>0.00</td>\n",
       "      <td>1.57</td>\n",
       "      <td>81.94</td>\n",
       "    </tr>\n",
       "    <tr>\n",
       "      <th>2</th>\n",
       "      <td>mozillasecurity/funfuzz</td>\n",
       "      <td>3</td>\n",
       "      <td>444</td>\n",
       "      <td>5960</td>\n",
       "      <td>16187</td>\n",
       "      <td>139125</td>\n",
       "      <td>110220</td>\n",
       "      <td>42.86</td>\n",
       "      <td>96.73</td>\n",
       "      <td>99.35</td>\n",
       "      <td>10.77</td>\n",
       "      <td>92.60</td>\n",
       "      <td>98.97</td>\n",
       "    </tr>\n",
       "    <tr>\n",
       "      <th>3</th>\n",
       "      <td>buckket/twtxt</td>\n",
       "      <td>4</td>\n",
       "      <td>106</td>\n",
       "      <td>2585</td>\n",
       "      <td>4982</td>\n",
       "      <td>39214</td>\n",
       "      <td>41496</td>\n",
       "      <td>30.77</td>\n",
       "      <td>77.94</td>\n",
       "      <td>93.83</td>\n",
       "      <td>7.73</td>\n",
       "      <td>60.86</td>\n",
       "      <td>90.78</td>\n",
       "    </tr>\n",
       "    <tr>\n",
       "      <th>4</th>\n",
       "      <td>simetenn/uncertainpy</td>\n",
       "      <td>13</td>\n",
       "      <td>1652</td>\n",
       "      <td>27614</td>\n",
       "      <td>53380</td>\n",
       "      <td>773031</td>\n",
       "      <td>590072</td>\n",
       "      <td>44.83</td>\n",
       "      <td>91.37</td>\n",
       "      <td>97.46</td>\n",
       "      <td>5.92</td>\n",
       "      <td>85.72</td>\n",
       "      <td>95.49</td>\n",
       "    </tr>\n",
       "    <tr>\n",
       "      <th>...</th>\n",
       "      <td>...</td>\n",
       "      <td>...</td>\n",
       "      <td>...</td>\n",
       "      <td>...</td>\n",
       "      <td>...</td>\n",
       "      <td>...</td>\n",
       "      <td>...</td>\n",
       "      <td>...</td>\n",
       "      <td>...</td>\n",
       "      <td>...</td>\n",
       "      <td>...</td>\n",
       "      <td>...</td>\n",
       "      <td>...</td>\n",
       "    </tr>\n",
       "    <tr>\n",
       "      <th>1297</th>\n",
       "      <td>facebook/chisel</td>\n",
       "      <td>1</td>\n",
       "      <td>6</td>\n",
       "      <td>29</td>\n",
       "      <td>1681</td>\n",
       "      <td>1681</td>\n",
       "      <td>1216</td>\n",
       "      <td>100.00</td>\n",
       "      <td>100.00</td>\n",
       "      <td>100.00</td>\n",
       "      <td>100.00</td>\n",
       "      <td>100.00</td>\n",
       "      <td>100.00</td>\n",
       "    </tr>\n",
       "    <tr>\n",
       "      <th>1298</th>\n",
       "      <td>pydata/pandas-datareader</td>\n",
       "      <td>4</td>\n",
       "      <td>476</td>\n",
       "      <td>9609</td>\n",
       "      <td>5752</td>\n",
       "      <td>178260</td>\n",
       "      <td>217007</td>\n",
       "      <td>33.33</td>\n",
       "      <td>77.27</td>\n",
       "      <td>88.74</td>\n",
       "      <td>1.66</td>\n",
       "      <td>51.49</td>\n",
       "      <td>83.64</td>\n",
       "    </tr>\n",
       "    <tr>\n",
       "      <th>1299</th>\n",
       "      <td>pydata/patsy</td>\n",
       "      <td>0</td>\n",
       "      <td>204</td>\n",
       "      <td>3615</td>\n",
       "      <td>0</td>\n",
       "      <td>82694</td>\n",
       "      <td>88754</td>\n",
       "      <td>0.00</td>\n",
       "      <td>85.36</td>\n",
       "      <td>94.12</td>\n",
       "      <td>0.00</td>\n",
       "      <td>61.26</td>\n",
       "      <td>90.02</td>\n",
       "    </tr>\n",
       "    <tr>\n",
       "      <th>1300</th>\n",
       "      <td>pydata/xarray</td>\n",
       "      <td>2</td>\n",
       "      <td>387</td>\n",
       "      <td>8609</td>\n",
       "      <td>1025</td>\n",
       "      <td>136638</td>\n",
       "      <td>189415</td>\n",
       "      <td>28.57</td>\n",
       "      <td>73.16</td>\n",
       "      <td>87.80</td>\n",
       "      <td>0.33</td>\n",
       "      <td>44.01</td>\n",
       "      <td>80.40</td>\n",
       "    </tr>\n",
       "    <tr>\n",
       "      <th>1301</th>\n",
       "      <td>ptb-pst1/pydynamic</td>\n",
       "      <td>21</td>\n",
       "      <td>2613</td>\n",
       "      <td>41333</td>\n",
       "      <td>898005</td>\n",
       "      <td>1293450</td>\n",
       "      <td>832278</td>\n",
       "      <td>87.50</td>\n",
       "      <td>96.96</td>\n",
       "      <td>98.87</td>\n",
       "      <td>63.51</td>\n",
       "      <td>91.48</td>\n",
       "      <td>97.36</td>\n",
       "    </tr>\n",
       "  </tbody>\n",
       "</table>\n",
       "<p>1302 rows × 13 columns</p>\n",
       "</div>"
      ],
      "text/plain": [
       "                       product  NBD  NBFD   NBMD  NBD-LOC  NBFD-LOC  NBMD-LOC  \\\n",
       "0      mozillasecurity/grizzly    6   255   4618    25649     72371     66834   \n",
       "1     mozillasecurity/ffpuppet    0     2    457        0       165      5750   \n",
       "2      mozillasecurity/funfuzz    3   444   5960    16187    139125    110220   \n",
       "3                buckket/twtxt    4   106   2585     4982     39214     41496   \n",
       "4         simetenn/uncertainpy   13  1652  27614    53380    773031    590072   \n",
       "...                        ...  ...   ...    ...      ...       ...       ...   \n",
       "1297           facebook/chisel    1     6     29     1681      1681      1216   \n",
       "1298  pydata/pandas-datareader    4   476   9609     5752    178260    217007   \n",
       "1299              pydata/patsy    0   204   3615        0     82694     88754   \n",
       "1300             pydata/xarray    2   387   8609     1025    136638    189415   \n",
       "1301        ptb-pst1/pydynamic   21  2613  41333   898005   1293450    832278   \n",
       "\n",
       "        PBD   PBFD   PBMD  PBD-LOC  PBFD-LOC  PBMD-LOC  \n",
       "0     30.00  75.00  88.84    22.84     64.45     84.49  \n",
       "1      0.00  15.38  81.03     0.00      1.57     81.94  \n",
       "2     42.86  96.73  99.35    10.77     92.60     98.97  \n",
       "3     30.77  77.94  93.83     7.73     60.86     90.78  \n",
       "4     44.83  91.37  97.46     5.92     85.72     95.49  \n",
       "...     ...    ...    ...      ...       ...       ...  \n",
       "1297 100.00 100.00 100.00   100.00    100.00    100.00  \n",
       "1298  33.33  77.27  88.74     1.66     51.49     83.64  \n",
       "1299   0.00  85.36  94.12     0.00     61.26     90.02  \n",
       "1300  28.57  73.16  87.80     0.33     44.01     80.40  \n",
       "1301  87.50  96.96  98.87    63.51     91.48     97.36  \n",
       "\n",
       "[1302 rows x 13 columns]"
      ]
     },
     "execution_count": 21,
     "metadata": {},
     "output_type": "execute_result"
    }
   ],
   "source": [
    "df"
   ]
  },
  {
   "cell_type": "code",
   "execution_count": 50,
   "metadata": {},
   "outputs": [
    {
     "data": {
      "image/png": "[encoded data removed]",
      "text/plain": [
       "<Figure size 1000x500 with 1 Axes>"
      ]
     },
     "metadata": {},
     "output_type": "display_data"
    }
   ],
   "source": [
    "metrics_count = ['PBMD', 'PBFD', 'PBD']\n",
    "metrics_loc = ['PBMD-LOC', 'PBFD-LOC', 'PBD-LOC']\n",
    "\n",
    "rename_dict = {\n",
    "    'PBMD': 'Method',\n",
    "    'PBD': 'Package',\n",
    "    'PBFD': 'File',\n",
    "    'PBD': 'Package'\n",
    "}\n",
    "\n",
    "# Melt count metrics\n",
    "\n",
    "df_count = df[metrics_count].melt(var_name='metric', value_name='value')\n",
    "df_count['Type'] = '\\% Bloated Entries'\n",
    "\n",
    "# Melt loc metrics\n",
    "df_loc = df[metrics_loc].melt(var_name='metric', value_name='value')\n",
    "df_loc['Type'] = '\\% Bloted LOC'\n",
    "\n",
    "# Replace '-LOC' from metric names in loc df\n",
    "df_loc['metric'] = df_loc['metric'].str.replace('-LOC', '')\n",
    "\n",
    "# Combine the two melted dataframes\n",
    "df_melted = pd.concat([df_count, df_loc])\n",
    "\n",
    "df_melted['metric'] = df_melted['metric'].map(rename_dict)\n",
    "\n",
    "# Plot\n",
    "plt.figure(figsize=(10, 5))\n",
    "# ax = sns.violinplot(data=df_melted, x=\"value\", y=\"metric\", hue=\"Type\", palette=['blue', 'orange'], split=False,  orient = 'h', inner=\"box\")\n",
    "ax = sns.boxplot(data=df_melted, x=\"value\", y=\"metric\", hue=\"Type\", \n",
    "            orient='h', linewidth=1.2,  palette=['blue', 'orange'],\n",
    "            showmeans=True,\n",
    "            meanprops={\"marker\":\">\",\"markerfacecolor\":\"red\", \"markeredgecolor\":\"red\"}) \n",
    "# sns.violinplot(data=df_melted, x=\"value\", y=\"metric\", hue=\"Type\", palette=['blue', 'orange'], split=False,  orient = 'h', inner=None, saturation=0.7)\n",
    "\n",
    "# plt.title(\"Bloated Entities Analysis\", fontsize=18)\n",
    "ax.set_xlim(-1,101)\n",
    "ax.legend( title=\"Entity Type\", frameon=True,  bbox_to_anchor=(0.04, 0.8), fontsize=11, title_fontsize=11)\n",
    "\n",
    "plt.ylabel(\"\")\n",
    "plt.xlabel(\"Percentage\", fontsize=14)\n",
    "plt.tight_layout()\n",
    "plt.savefig('figures/rq1.pdf',  bbox_inches='tight',)\n",
    "plt.show()\n",
    "\n"
   ]
  },
  {
   "cell_type": "code",
   "execution_count": 23,
   "metadata": {},
   "outputs": [
    {
     "data": {
      "text/plain": [
       "<Figure size 1700x1000 with 0 Axes>"
      ]
     },
     "metadata": {},
     "output_type": "display_data"
    }
   ],
   "source": [
    "plt.figure(figsize=(17, 10))\n",
    "for i, (metric, full_name) in enumerate(zip(metrics[6:], full_names[6:]), 1):\n",
    "    plt.subplot(2, 3, i)\n",
    "    \n",
    "    # Draw violinplot with reduced saturation\n",
    "    ax = sns.violinplot(y=df[metric], linewidth=2, color='lightblue', orient='h', inner=None, saturation=0.5)\n",
    "    \n",
    "    # Draw boxplot inside the violinplot with increased width and linewidth\n",
    "    sns.boxplot(y=df[metric], color=\"lightblue\", width=0.1, orient='h', showfliers=False, boxprops={'zorder': 2}, ax = ax)\n",
    "    \n",
    "    # Setting a y-limit\n",
    "    ax.set_ylim(0)\n",
    "    \n",
    "    # Plot average value\n",
    "    avg_val = df[metric].mean()\n",
    "    marker = plt.matplotlib.markers.MarkerStyle(marker=\"^\")\n",
    "    plt.scatter(0, avg_val, color='red', marker=marker, s=35, zorder=5)\n",
    "    \n",
    "    plt.title(f'{full_name}', fontsize=14.5)\n",
    "    \n",
    "    if df[metric].max() >= 1e6:\n",
    "        plt.yticks(ticks=plt.yticks()[0], labels=[f'{y/scale_factor:.1f}M' for y in plt.yticks()[0]])\n",
    "    \n",
    "    ax.tick_params(axis='y', labelsize=12)\n",
    "    ax.set_ylabel(\"\")\n",
    "    plt.tight_layout()\n"
   ]
  },
  {
   "cell_type": "code",
   "execution_count": 24,
   "metadata": {},
   "outputs": [],
   "source": [
    "zero_count = df[df['PBD'] == 0].shape[0]\n",
    "hundred_count = df[df['PBD'] == 100].shape[0]\n",
    "zero_count_loc = df[df['PBD-LOC'] == 0].shape[0]\n",
    "hundred_count_loc = df[df['PBD-LOC'] == 100].shape[0]"
   ]
  },
  {
   "cell_type": "code",
   "execution_count": 25,
   "metadata": {},
   "outputs": [
    {
     "data": {
      "text/plain": [
       "(177, 93, 177, 93)"
      ]
     },
     "execution_count": 25,
     "metadata": {},
     "output_type": "execute_result"
    }
   ],
   "source": [
    "zero_count, hundred_count, zero_count_loc,  hundred_count_loc"
   ]
  },
  {
   "cell_type": "code",
   "execution_count": 26,
   "metadata": {},
   "outputs": [
    {
     "data": {
      "text/plain": [
       "93"
      ]
     },
     "execution_count": 26,
     "metadata": {},
     "output_type": "execute_result"
    }
   ],
   "source": [
    "hundred_count"
   ]
  },
  {
   "cell_type": "code",
   "execution_count": 27,
   "metadata": {},
   "outputs": [
    {
     "data": {
      "image/png": "[encoded data removed]",
      "text/plain": [
       "<Figure size 1200x700 with 1 Axes>"
      ]
     },
     "metadata": {},
     "output_type": "display_data"
    }
   ],
   "source": [
    "plt.style.use({\n",
    "    'font.family': 'serif',          # Change font family to serif\n",
    "    'font.serif': 'Times New Roman', # Choose a serif font\n",
    "    'font.size': 16,                # Increase the font size\n",
    "    'font.weight': 'normal',        # Set font weight to normal (options: 'normal', 'bold', 'heavy', 'light', 'ultrabold')\n",
    "})\n",
    "# Data calculations\n",
    "\n",
    "# Calculate used counts for each row and then sum\n",
    "df['Used_deps_cnt'] = df['NBD'] / (df[\"PBD\"]/100) - df['NBD']\n",
    "df['Used_files_cnt'] = df['NBFD'] / (df[\"PBFD\"]/100) - df['NBFD']\n",
    "df['Used_methods_cnt'] = df['NBMD'] / (df[\"PBMD\"]/100) - df['NBMD']\n",
    "\n",
    "df['Used_deps_loc'] = df['NBD-LOC'] / (df[\"PBD-LOC\"]/100) - df['NBD-LOC']\n",
    "df['Used_files_loc'] = df['NBFD-LOC'] / (df[\"PBFD-LOC\"]/100) - df['NBFD-LOC']\n",
    "df['Used_methods_loc'] = df['NBMD-LOC'] / (df[\"PBMD-LOC\"]/100) - df['NBMD-LOC']\n",
    "\n",
    "# Sum the counts for both metrics and LOCs\n",
    "total_bloated_counts = [df[\"NBD\"].sum(), df[\"NBFD\"].sum(), df[\"NBMD\"].sum()]\n",
    "total_used_counts = [df['Used_deps_cnt'].sum(), df['Used_files_cnt'].sum(), df['Used_methods_cnt'].sum()]\n",
    "\n",
    "total_bloated_locs = [df[\"NBD-LOC\"].sum(), df[\"NBFD-LOC\"].sum(), df[\"NBMD-LOC\"].sum()]\n",
    "total_used_locs = [df['Used_deps_loc'].sum(), df['Used_files_loc'].sum(), df['Used_methods_loc'].sum()]\n",
    "\n",
    "# Convert to percentages\n",
    "bloated_percentages = [(bloated / (bloated + used)) * 100 for bloated, used in zip(total_bloated_counts, total_used_counts)]\n",
    "used_percentages = [100 - value for value in bloated_percentages]\n",
    "\n",
    "bloated_LOC_percentages = [(bloated / (bloated + used)) * 100 for bloated, used in zip(total_bloated_locs, total_used_locs)]\n",
    "used_LOC_percentages = [100 - value for value in bloated_LOC_percentages]\n",
    "\n",
    "# Plotting\n",
    "labels = ['Dependencies', 'Files', 'Methods']\n",
    "x = np.arange(len(labels))\n",
    "width = 0.35\n",
    "\n",
    "fig, ax = plt.subplots(figsize=(12, 7))\n",
    "\n",
    "bars1 = ax.bar(x - width/2, bloated_percentages, width, color='tab:blue', label='Bloated Count')\n",
    "bars2 = ax.bar(x - width/2, used_percentages, width, color='lightblue', bottom=bloated_percentages, label='Used Count')\n",
    "\n",
    "bars3 = ax.bar(x + width/2, bloated_LOC_percentages, width, color='tab:orange', label='Bloated LOC')\n",
    "bars4 = ax.bar(x + width/2, used_LOC_percentages, width, color='lightcoral', bottom=bloated_LOC_percentages, label='Used LOC')\n",
    "\n",
    "def add_values_to_bars(bars, data_values, percentages, previous_bar_heights=None):\n",
    "    for bar, val, pct in zip(bars, data_values, percentages):\n",
    "        height = bar.get_height()\n",
    "        \n",
    "        # For values at the bottom part of the stacked bar (the bloated bars)\n",
    "        if previous_bar_heights is None:\n",
    "            ax.text(bar.get_x() + bar.get_width()/2., height/2,\n",
    "                     f\"{int(val):,}\\n({pct:.2f}\\%)\", ha='center', va='center', color='black', fontsize=13)\n",
    "        \n",
    "        # For values at the top part of the stacked bar (the used bars)\n",
    "        else:\n",
    "            idx = bars.index(bar)\n",
    "            bar_mid_position = previous_bar_heights[idx] + height/10\n",
    "            ax.text(bar.get_x() + bar.get_width()/2., bar_mid_position, \n",
    "                   f\"{int(val):,}\\n({pct:.2f}\\%)\", ha='center', va='center', color='black', fontsize=13)\n",
    "\n",
    "# Add values to the bars\n",
    "add_values_to_bars(bars1, total_bloated_counts, bloated_percentages)\n",
    "add_values_to_bars(bars2, total_used_counts, used_percentages, [bar.get_height() for bar in bars1])\n",
    "add_values_to_bars(bars3, total_bloated_locs, bloated_LOC_percentages)\n",
    "add_values_to_bars(bars4, total_used_locs, used_LOC_percentages, [bar.get_height() for bar in bars3])\n",
    "\n",
    "ax.set_xlabel('Granularity Level', fontsize=20)\n",
    "ax.set_ylabel('Percentage Value (\\%)', fontsize=20)\n",
    "ax.set_xticks(x)\n",
    "ax.set_xticklabels(labels, fontsize=18)\n",
    "ax.legend(loc='upper left', fontsize=18, bbox_to_anchor=(1, 1))\n",
    "ax.set_ylim(0, 100)\n",
    "\n",
    "plt.title('Quantitative Assessment of Software Bloat Across Granularity Levels', fontsize=22)\n",
    "plt.tight_layout()\n",
    "plt.subplots_adjust(right=0.75)\n",
    "plt.savefig('figures/granularity_level_comparison_rq1.pdf', bbox_inches='tight', dpi=300)\n",
    "plt.show()\n"
   ]
  }
 ],
 "metadata": {
  "kernelspec": {
   "display_name": "Python 3",
   "language": "python",
   "name": "python3"
  },
  "language_info": {
   "codemirror_mode": {
    "name": "ipython",
    "version": 3
   },
   "file_extension": ".py",
   "mimetype": "text/x-python",
   "name": "python",
   "nbconvert_exporter": "python",
   "pygments_lexer": "ipython3",
   "version": "3.9.18"
  },
  "orig_nbformat": 4
 },
 "nbformat": 4,
 "nbformat_minor": 2
}
